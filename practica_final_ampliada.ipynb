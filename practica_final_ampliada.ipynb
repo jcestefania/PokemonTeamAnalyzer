{
 "cells": [
  {
   "cell_type": "markdown",
   "metadata": {},
   "source": [
    "Ash Ketchum va a enfrentarse a un nuevo líder de gimnasio especializado en Pokémon de tipo planta. Para tener una ventaja estratégica, Ash necesita analizar dos equipos de Pokémon y decidir cuál le dará mejores posibilidades de victoria. Quiere construir un equipo puramente ofensivo.\n",
    "\n",
    "Los dos equipos que tiene listos son los siguientes:\n",
    "\n",
    "- Equipo 1: Charizard, Dragonair, Seadra, Pidgeot, Kadabra, Butterfree.\n",
    "- Equipo 2: Feraligatr, Snorlax, Gyarados, Fearow, Zapdos, Hypno.\n",
    "En esta práctica, deberás usar Python y las librerías vistas en clase para acceder a una API pública de Pokémon y analizar las características de cada equipo, eligiendo el más adecuado.\n",
    "\n",
    "Finálmente, usa una librería gráfica de tu elección para representar la comparación de los equipos. Puede ser mostrando una tabla, gráfica...\n",
    "\n",
    "Restricciones:\n",
    "\n",
    "- Ash solo puede usar Pokemons incluidos hasta la segunda generación.\n",
    "\n",
    "- La puntuación de un Pokemon será obtenida en base a su estadística de ataque (attack) desde las estadísticas base (base_stat)\n",
    "\n",
    "- Los Pokemon con ventaja de tipo (Fuego, Volador, Veneno, Hielo y Bicho) puntuarán con un multiplicador de 1.5\n",
    "\n",
    "- Los Pokemon con desventaja de tipo (Agua, Piedra, Tierra) puntuarán con un multiplicador de 0.5\n",
    "\n",
    "- Los Pokemon sin ventaja de tipo tendrán un multiplicador de 1\n",
    "\n",
    " \n",
    "\n",
    "Rúbrica de la práctica:\n",
    "\n",
    "Consulta correcta a la pokeapi: 2 puntos\n",
    "\n",
    "Cálculo de ventajas y desventajas de cada pokemon: 2,5 puntos\n",
    "\n",
    "Cálculo de equipo vencedor correcto: 4 puntos\n",
    "\n",
    "Representación gráfica: 1,5 puntos"
   ]
  },
  {
   "cell_type": "code",
   "execution_count": 1,
   "metadata": {},
   "outputs": [
    {
     "name": "stderr",
     "output_type": "stream",
     "text": [
      "C:\\Users\\juanc\\AppData\\Local\\Temp\\ipykernel_13236\\3165406878.py:2: DeprecationWarning: \n",
      "Pyarrow will become a required dependency of pandas in the next major release of pandas (pandas 3.0),\n",
      "(to allow more performant data types, such as the Arrow string type, and better interoperability with other libraries)\n",
      "but was not found to be installed on your system.\n",
      "If this would cause problems for you,\n",
      "please provide us feedback at https://github.com/pandas-dev/pandas/issues/54466\n",
      "        \n",
      "  import pandas as pd\n"
     ]
    }
   ],
   "source": [
    "import requests\n",
    "import pandas as pd\n",
    "import matplotlib.pyplot as plt\n",
    "\n",
    "# Definir las listas de equipos y las ventajas/desventajas\n",
    "equipo_1 = [\"charizard\", \"dragonair\", \"seadra\", \"pidgeot\", \"kadabra\", \"butterfree\"]\n",
    "equipo_2 = [\"feraligatr\", \"snorlax\", \"gyarados\", \"fearow\", \"zapdos\", \"hypno\"]\n",
    "ventaja = {\"fire\", \"flying\", \"poison\", \"ice\", \"bug\"}\n",
    "desventaja = {\"water\", \"rock\", \"ground\"}"
   ]
  },
  {
   "cell_type": "code",
   "execution_count": 2,
   "metadata": {},
   "outputs": [],
   "source": [
    "# Función para obtener datos de la API\n",
    "def obtener_estadisticas(pokemon):\n",
    "    url = f\"https://pokeapi.co/api/v2/pokemon/{pokemon.lower()}\" # Esto asegura que la URL sea correcta, ya que la API es sensible a las mayúsculas y las minúsculas\n",
    "    # Request a la API\n",
    "    response = requests.get(url)\n",
    "    # Obtener datos en formato JSON\n",
    "    data = response.json()\n",
    "    return data # Devuelve el JSON completo\n",
    "\n",
    "# Función para filtrar ataque y tipos del JSON\n",
    "def filtrar_datos(pokemon_data):\n",
    "    attack = next(stat['base_stat'] for stat in pokemon_data['stats'] if stat['stat']['name'] == 'attack')\n",
    "    types = [t['type']['name'] for t in pokemon_data['types']]\n",
    "    return attack, types"
   ]
  },
  {
   "cell_type": "code",
   "execution_count": 3,
   "metadata": {},
   "outputs": [],
   "source": [
    "# Inicializar las listas que guardarán los datos filtrados de los equipos\n",
    "datos_equipo_1 = []\n",
    "datos_equipo_2 = []\n",
    "\n",
    "# Obtener y almacenar solo los datos filtrados (ataque y tipos) para cada Pokémon de ambos equipos\n",
    "for pokemon in equipo_1:\n",
    "    datos = obtener_estadisticas(pokemon)\n",
    "    attack, types = filtrar_datos(datos)\n",
    "    datos_equipo_1.append({'name': pokemon, 'attack': attack, 'types': types})\n",
    "\n",
    "for pokemon in equipo_2:\n",
    "    datos = obtener_estadisticas(pokemon)\n",
    "    attack, types = filtrar_datos(datos)\n",
    "    datos_equipo_2.append({'name': pokemon, 'attack': attack, 'types': types})"
   ]
  },
  {
   "cell_type": "code",
   "execution_count": 4,
   "metadata": {},
   "outputs": [
    {
     "name": "stdout",
     "output_type": "stream",
     "text": [
      "Equipo 1:\n",
      "         name  attack             types\n",
      "0   charizard      84    [fire, flying]\n",
      "1   dragonair      84          [dragon]\n",
      "2      seadra      65           [water]\n",
      "3     pidgeot      80  [normal, flying]\n",
      "4     kadabra      35         [psychic]\n",
      "5  butterfree      45     [bug, flying]\n",
      "\n",
      "Equipo 2:\n",
      "         name  attack               types\n",
      "0  feraligatr     105             [water]\n",
      "1     snorlax     110            [normal]\n",
      "2    gyarados     125     [water, flying]\n",
      "3      fearow      90    [normal, flying]\n",
      "4      zapdos      90  [electric, flying]\n",
      "5       hypno      73           [psychic]\n"
     ]
    }
   ],
   "source": [
    "# Crear el DataFrame para el equipo 1\n",
    "datos_tabla_equipo_1 = [\n",
    "    {\n",
    "        'name': datos['name'],\n",
    "        'attack': datos['attack'],\n",
    "        'types': datos['types']\n",
    "    }\n",
    "    for datos in datos_equipo_1\n",
    "]\n",
    "df_equipo_1 = pd.DataFrame(datos_tabla_equipo_1)\n",
    "\n",
    "# Crear el DataFrame para el equipo 2\n",
    "datos_tabla_equipo_2 = [\n",
    "    {\n",
    "        'name': datos['name'],\n",
    "        'attack': datos['attack'],\n",
    "        'types': datos['types']\n",
    "    }\n",
    "    for datos in datos_equipo_2\n",
    "]\n",
    "df_equipo_2 = pd.DataFrame(datos_tabla_equipo_2)\n",
    "\n",
    "# Imprimir los DataFrames con etiquetas claras\n",
    "print(\"Equipo 1:\")\n",
    "print(df_equipo_1)\n",
    "print(\"\\nEquipo 2:\")\n",
    "print(df_equipo_2)\n"
   ]
  },
  {
   "cell_type": "code",
   "execution_count": 5,
   "metadata": {},
   "outputs": [
    {
     "name": "stdout",
     "output_type": "stream",
     "text": [
      "Puntuación Equipo 1: 465.0\n",
      "Puntuación Equipo 2: 599.25\n"
     ]
    }
   ],
   "source": [
    "# Función para calcular la puntuación ajustada de ataque\n",
    "def calcular_puntuacion(attack, types):\n",
    "    multiplicador = 1\n",
    "    # Verificar si tiene ventaja\n",
    "    if any(t in ventaja for t in types):\n",
    "        multiplicador *= 1.5\n",
    "    # Verificar si tiene desventaja\n",
    "    if any(t in desventaja for t in types):\n",
    "        multiplicador *= 0.5\n",
    "    return attack * multiplicador\n",
    "\n",
    "# Calcular las puntuaciones de ambos equipos usando los datos ya filtrados\n",
    "def calcular_puntuacion_total(datos_equipo):\n",
    "    puntuacion_total = 0\n",
    "    for datos in datos_equipo:\n",
    "        attack = datos['attack']\n",
    "        types = datos['types']\n",
    "        puntuacion_total += calcular_puntuacion(attack, types)\n",
    "    return puntuacion_total\n",
    "\n",
    "# Obtener puntuación total de cada equipo\n",
    "puntuacion_equipo_1 = calcular_puntuacion_total(datos_equipo_1)\n",
    "puntuacion_equipo_2 = calcular_puntuacion_total(datos_equipo_2)\n",
    "\n",
    "# Imprimir puntuaciones totales para ver la diferencia\n",
    "print(\"Puntuación Equipo 1:\", puntuacion_equipo_1)\n",
    "print(\"Puntuación Equipo 2:\", puntuacion_equipo_2)\n",
    "\n",
    "# Determinar equipo ganador\n",
    "equipo_ganador = \"Equipo 1\" if puntuacion_equipo_1 > puntuacion_equipo_2 else \"Equipo 2\"\n"
   ]
  },
  {
   "cell_type": "code",
   "execution_count": 6,
   "metadata": {},
   "outputs": [
    {
     "name": "stdout",
     "output_type": "stream",
     "text": [
      "Equipo 1:\n",
      "         name attack             types  adjusted_score\n",
      "0   charizard     84    [fire, flying]           126.0\n",
      "1   dragonair     84          [dragon]            84.0\n",
      "2      seadra     65           [water]            32.5\n",
      "3     pidgeot     80  [normal, flying]           120.0\n",
      "4     kadabra     35         [psychic]            35.0\n",
      "5  butterfree     45     [bug, flying]            67.5\n",
      "6       Total                                    465.0\n",
      "\n",
      "Equipo 2:\n",
      "         name attack               types  adjusted_score\n",
      "0  feraligatr    105             [water]           52.50\n",
      "1     snorlax    110            [normal]          110.00\n",
      "2    gyarados    125     [water, flying]           93.75\n",
      "3      fearow     90    [normal, flying]          135.00\n",
      "4      zapdos     90  [electric, flying]          135.00\n",
      "5       hypno     73           [psychic]           73.00\n",
      "6       Total                                     599.25\n"
     ]
    }
   ],
   "source": [
    "# Crear el DataFrame para el equipo 1 con la puntuación final de cada ataque (multiplicado por ventajas y desventajas)\n",
    "datos_tabla_equipo_1 = [\n",
    "    {\n",
    "        'name': datos['name'],\n",
    "        'attack': datos['attack'],\n",
    "        'types': datos['types'],\n",
    "        'adjusted_score': calcular_puntuacion(datos['attack'], datos['types'])\n",
    "    }\n",
    "    for datos in datos_equipo_1\n",
    "]\n",
    "df_equipo_1 = pd.DataFrame(datos_tabla_equipo_1)\n",
    "\n",
    "# Agregar una fila para el total del equipo 1\n",
    "total_score_1 = df_equipo_1['adjusted_score'].sum()\n",
    "df_equipo_1 = pd.concat([df_equipo_1, pd.DataFrame([{'name': 'Total', 'attack': '', 'types': '', 'adjusted_score': total_score_1}])], ignore_index=True)\n",
    "\n",
    "# Crear el DataFrame para el equipo 2 con la puntuación final de cada ataque (multiplicado por ventajas y desventajas)\n",
    "datos_tabla_equipo_2 = [\n",
    "    {\n",
    "        'name': datos['name'],\n",
    "        'attack': datos['attack'],\n",
    "        'types': datos['types'],\n",
    "        'adjusted_score': calcular_puntuacion(datos['attack'], datos['types'])\n",
    "    }\n",
    "    for datos in datos_equipo_2\n",
    "]\n",
    "df_equipo_2 = pd.DataFrame(datos_tabla_equipo_2)\n",
    "\n",
    "# Agregar una fila para el total del equipo 2\n",
    "total_score_2 = df_equipo_2['adjusted_score'].sum()\n",
    "df_equipo_2 = pd.concat([df_equipo_2, pd.DataFrame([{'name': 'Total', 'attack': '', 'types': '', 'adjusted_score': total_score_2}])], ignore_index=True)\n",
    "\n",
    "# Imprimir los DataFrames\n",
    "print(\"Equipo 1:\")\n",
    "print(df_equipo_1)\n",
    "print(\"\\nEquipo 2:\")\n",
    "print(df_equipo_2)\n"
   ]
  },
  {
   "cell_type": "code",
   "execution_count": 7,
   "metadata": {},
   "outputs": [
    {
     "data": {
      "image/png": "[encoded data removed]",
      "text/plain": [
       "<Figure size 640x480 with 1 Axes>"
      ]
     },
     "metadata": {},
     "output_type": "display_data"
    }
   ],
   "source": [
    "# Visualización\n",
    "equipos = ['Equipo 1', 'Equipo 2']\n",
    "puntuaciones = [puntuacion_equipo_1, puntuacion_equipo_2]\n",
    "\n",
    "plt.bar(equipos, puntuaciones, color=['red', 'green'])\n",
    "plt.xlabel(\"Equipos\")\n",
    "plt.ylabel(\"Puntuación total ajustada\")\n",
    "plt.title(f\"Equipo ganador: {equipo_ganador}\")\n",
    "plt.show()"
   ]
  },
  {
   "cell_type": "markdown",
   "metadata": {},
   "source": [
    "Sobre la práctica final, aplicar la siguiente modificación:\n",
    "\n",
    "En la práctica anterior hemos aplicado los multiplicadores para tener las ventajas de tipo. Sin embargo, para calcular el valor del equipo hemos usado el ataque físico, lo cual no sería exacto para saber como de útil es cada uno de los Pokemon. En este caso, queremos fijarnos sobre los atributos de ataque especial y defensa especial, que nos permitirán hacer una aproximación más exacta:\n",
    "\n",
    "- Qué equipo es mejor en términos de ataque especial\n",
    "- Qué equipo es mejor en términos de defensa especial\n",
    "- Qué equipo es mejor en el cómputo global\n",
    "- Qué Pokemon es el más débil del equipo en base a esas estadísticas y, por lo tanto, debería ser cambiado."
   ]
  },
  {
   "cell_type": "code",
   "execution_count": 9,
   "metadata": {},
   "outputs": [],
   "source": [
    "# Función para calcular las puntuaciones extendidas de ataque especial y defensa especial\n",
    "def calcular_puntuaciones_extendido(datos_equipo):\n",
    "    puntuaciones_ataque_especial = []\n",
    "    puntuaciones_defensa_especial = []\n",
    "    \n",
    "    for datos in datos_equipo:\n",
    "        stats = obtener_estadisticas(datos['name'])  # Obtener estadísticas completas desde la API\n",
    "        ataque_especial = next(stat['base_stat'] for stat in stats['stats'] if stat['stat']['name'] == 'special-attack')\n",
    "        defensa_especial = next(stat['base_stat'] for stat in stats['stats'] if stat['stat']['name'] == 'special-defense')\n",
    "        \n",
    "        multiplicador = 1\n",
    "        if any(t in ventaja for t in datos['types']):\n",
    "            multiplicador *= 1.5\n",
    "        if any(t in desventaja for t in datos['types']):\n",
    "            multiplicador *= 0.5\n",
    "\n",
    "        puntuaciones_ataque_especial.append(ataque_especial * multiplicador)\n",
    "        puntuaciones_defensa_especial.append(defensa_especial * multiplicador)\n",
    "    \n",
    "    return puntuaciones_ataque_especial, puntuaciones_defensa_especial\n"
   ]
  },
  {
   "cell_type": "code",
   "execution_count": 10,
   "metadata": {},
   "outputs": [],
   "source": [
    "# Calcular puntuaciones para ambos equipos\n",
    "puntuaciones_equipo1_ataque_especial, puntuaciones_equipo1_defensa_especial = calcular_puntuaciones_extendido(datos_equipo_1)\n",
    "puntuaciones_equipo2_ataque_especial, puntuaciones_equipo2_defensa_especial = calcular_puntuaciones_extendido(datos_equipo_2)"
   ]
  },
  {
   "cell_type": "code",
   "execution_count": 12,
   "metadata": {},
   "outputs": [
    {
     "name": "stdout",
     "output_type": "stream",
     "text": [
      "Puntuación total de ataque especial equipo 1: 641.0\n",
      "Puntuación total de defensa especial equipo 1: 515.0\n",
      "Puntuación global equipo 1: 126.0\n"
     ]
    }
   ],
   "source": [
    "# Cálculo de totales y cómputo global equipo 1\n",
    "total_equipo1_ataque_especial = sum(puntuaciones_equipo1_ataque_especial)\n",
    "print(\"Puntuación total de ataque especial equipo 1:\", total_equipo1_ataque_especial)\n",
    "total_equipo1_defensa_especial = sum(puntuaciones_equipo1_defensa_especial)\n",
    "print(\"Puntuación total de defensa especial equipo 1:\", total_equipo1_defensa_especial)\n",
    "total_equipo1_global = total_equipo1_ataque_especial - total_equipo1_defensa_especial\n",
    "print(\"Puntuación global equipo 1:\", total_equipo1_global)"
   ]
  },
  {
   "cell_type": "code",
   "execution_count": 13,
   "metadata": {},
   "outputs": [
    {
     "name": "stdout",
     "output_type": "stream",
     "text": [
      "Puntuación total de ataque especial equipo 2: 501.5\n",
      "Puntuación total de defensa especial equipo 2: 568.0\n",
      "Puntuación global equipo 2: -66.5\n"
     ]
    }
   ],
   "source": [
    "# Cálculo de totales y cómputo global equipo 2\n",
    "total_equipo2_ataque_especial = sum(puntuaciones_equipo2_ataque_especial)\n",
    "print(\"Puntuación total de ataque especial equipo 2:\", total_equipo2_ataque_especial)\n",
    "total_equipo2_defensa_especial = sum(puntuaciones_equipo2_defensa_especial)\n",
    "print(\"Puntuación total de defensa especial equipo 2:\", total_equipo2_defensa_especial)\n",
    "total_equipo2_global = total_equipo2_ataque_especial - total_equipo2_defensa_especial\n",
    "print(\"Puntuación global equipo 2:\", total_equipo2_global)"
   ]
  },
  {
   "cell_type": "code",
   "execution_count": 17,
   "metadata": {},
   "outputs": [
    {
     "name": "stdout",
     "output_type": "stream",
     "text": [
      "Cómputos finales del Equipo 1:\n",
      "         name  special-attack  special-defense  global-score\n",
      "0   charizard           163.5            127.5          36.0\n",
      "1   dragonair            70.0             70.0           0.0\n",
      "2      seadra            47.5             22.5          25.0\n",
      "3     pidgeot           105.0            105.0           0.0\n",
      "4     kadabra           120.0             70.0          50.0\n",
      "5  butterfree           135.0            120.0          15.0\n",
      "\n",
      "Cómputos finales del Equipo 2:\n",
      "         name  special-attack  special-defense  global-score\n",
      "0  feraligatr            39.5             41.5          -2.0\n",
      "1     snorlax            65.0            110.0         -45.0\n",
      "2    gyarados            45.0             75.0         -30.0\n",
      "3      fearow            91.5             91.5           0.0\n",
      "4      zapdos           187.5            135.0          52.5\n",
      "5       hypno            73.0            115.0         -42.0\n"
     ]
    }
   ],
   "source": [
    "# Calcular los cómputos globales para cada Pokémon y crear una tabla\n",
    "def generar_tabla_computos(datos_equipo, puntuaciones_ataque_especial, puntuaciones_defensa_especial):\n",
    "    computos = []\n",
    "    for datos, ataque_especial, defensa_especial in zip(datos_equipo, puntuaciones_ataque_especial, puntuaciones_defensa_especial):\n",
    "        computo_global = ataque_especial - defensa_especial\n",
    "        computos.append({\n",
    "            'name': datos['name'],\n",
    "            'special-attack': ataque_especial,\n",
    "            'special-defense': defensa_especial,\n",
    "            'global-score': computo_global\n",
    "        })\n",
    "    return pd.DataFrame(computos)\n",
    "\n",
    "# Generar las tablas para ambos equipos\n",
    "tabla_equipo1 = generar_tabla_computos(datos_equipo_1, puntuaciones_equipo1_ataque_especial, puntuaciones_equipo1_defensa_especial)\n",
    "tabla_equipo2 = generar_tabla_computos(datos_equipo_2, puntuaciones_equipo2_ataque_especial, puntuaciones_equipo2_defensa_especial)\n",
    "\n",
    "# Mostrar las tablas con los resultados\n",
    "print(\"Cómputos finales del Equipo 1:\")\n",
    "print(tabla_equipo1)\n",
    "print(\"\\nCómputos finales del Equipo 2:\")\n",
    "print(tabla_equipo2)"
   ]
  },
  {
   "cell_type": "code",
   "execution_count": 34,
   "metadata": {},
   "outputs": [
    {
     "name": "stdout",
     "output_type": "stream",
     "text": [
      "        name  special-attack  special-defense  global-score      team\n",
      "1  dragonair            70.0             70.0           0.0  Equipo 1\n",
      "3    pidgeot           105.0            105.0           0.0  Equipo 1\n",
      "\n",
      "Pokémon más débil del Equipo 1: dragonair\n",
      "\n",
      "      name  special-attack  special-defense  global-score      team\n",
      "1  snorlax            65.0            110.0         -45.0  Equipo 2\n",
      "\n",
      "Pokémon más débil del Equipo 2: snorlax\n"
     ]
    }
   ],
   "source": [
    "# Añadir una columna \"team\" para diferenciar las tablas\n",
    "tabla_equipo1['team'] = 'Equipo 1'\n",
    "tabla_equipo2['team'] = 'Equipo 2'\n",
    "\n",
    "# Función para encontrar el Pokémon más débil según los criterios de desempate (Ver el pokémon que tiene el menor ataque especial, si hay empate, ver el que tiene la menor defensa especial, si hay empate, desempatar alfabéticamente)\n",
    "def encontrar_pokemon_mas_debil_desde_tabla(tabla):\n",
    "    # Filtrar los Pokémon con el cómputo global más bajo\n",
    "    min_global_score = tabla['global-score'].min()\n",
    "    pokemons_minimos = tabla[tabla['global-score'] == min_global_score]\n",
    "    print(pokemons_minimos)\n",
    "    \n",
    "    # Si solo hay un Pokémon, devolverlo directamente\n",
    "    if len(pokemons_minimos) == 1:\n",
    "        return pokemons_minimos.iloc[0]['name']\n",
    "    \n",
    "    # Desempatar con el menor ataque especial\n",
    "    min_special_attack = pokemons_minimos['special-attack'].min()\n",
    "    pokemons_minimos = pokemons_minimos[pokemons_minimos['special-attack'] == min_special_attack]\n",
    "    \n",
    "    # Si sigue habiendo empate, desempatar con la menor defensa especial\n",
    "    if len(pokemons_minimos) > 1:\n",
    "        min_special_defense = pokemons_minimos['special-defense'].min()\n",
    "        pokemons_minimos = pokemons_minimos[pokemons_minimos['special-defense'] == min_special_defense]\n",
    "    \n",
    "    # Si aún hay empate, desempatar alfabéticamente\n",
    "    return pokemons_minimos.sort_values(by='name').iloc[0]['name']\n",
    "\n",
    "# Encontrar el Pokémon más débil para ambos equipos\n",
    "pokemon_mas_debil_equipo1 = encontrar_pokemon_mas_debil_desde_tabla(tabla_equipo1)\n",
    "print(f\"\\nPokémon más débil del Equipo 1: {pokemon_mas_debil_equipo1}\\n\")\n",
    "pokemon_mas_debil_equipo2 = encontrar_pokemon_mas_debil_desde_tabla(tabla_equipo2)\n",
    "print(f\"\\nPokémon más débil del Equipo 2: {pokemon_mas_debil_equipo2}\")\n"
   ]
  }
 ],
 "metadata": {
  "kernelspec": {
   "display_name": "Python 3",
   "language": "python",
   "name": "python3"
  },
  "language_info": {
   "codemirror_mode": {
    "name": "ipython",
    "version": 3
   },
   "file_extension": ".py",
   "mimetype": "text/x-python",
   "name": "python",
   "nbconvert_exporter": "python",
   "pygments_lexer": "ipython3",
   "version": "3.11.9"
  }
 },
 "nbformat": 4,
 "nbformat_minor": 2
}
